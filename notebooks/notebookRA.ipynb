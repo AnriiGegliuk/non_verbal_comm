{
 "cells": [
  {
   "cell_type": "markdown",
   "id": "0a15174e",
   "metadata": {},
   "source": [
    "Renan's notebook"
   ]
  },
  {
   "cell_type": "markdown",
   "id": "d64debfc",
   "metadata": {},
   "source": []
  }
 ],
 "metadata": {
  "language_info": {
   "name": "python"
  }
 },
 "nbformat": 4,
 "nbformat_minor": 5
}
