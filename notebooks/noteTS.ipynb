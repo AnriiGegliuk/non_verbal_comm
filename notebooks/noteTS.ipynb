{
 "cells": [
  {
   "cell_type": "markdown",
   "id": "73e18d6e",
   "metadata": {},
   "source": [
    "Master notebook"
   ]
  }
 ],
 "metadata": {
  "language_info": {
   "name": "python"
  }
 },
 "nbformat": 4,
 "nbformat_minor": 5
}
